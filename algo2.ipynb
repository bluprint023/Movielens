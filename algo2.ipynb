{
 "cells": [
  {
   "cell_type": "code",
   "execution_count": 1,
   "metadata": {},
   "outputs": [],
   "source": [
    "import pandas as pd\n",
    "import numpy as np\n",
    "from sklearn.feature_extraction.text import TfidfVectorizer\n",
    "from sklearn.metrics.pairwise import cosine_similarity\n",
    "\n",
    "# Load datasets\n",
    "movies = pd.read_csv(\"movies.csv\")\n",
    "genome_scores = pd.read_csv(\"genome_scores.csv\")\n",
    "genome_tags = pd.read_csv(\"genome_tags.csv\")\n",
    "train = pd.read_csv(\"train.csv\")\n",
    "\n",
    "# Create consistent mapping of movieId to array indices\n",
    "movie_id_to_idx = {movie_id: idx for idx, movie_id in enumerate(movies['movieId'])}\n",
    "\n",
    "# Content-Based Filtering\n",
    "# Merge genome_scores and genome_tags to get movie tag relevance\n",
    "movie_tags = genome_scores.merge(genome_tags, on='tagId')\n",
    "movie_tags = movie_tags.pivot(index='movieId', columns='tag', values='relevance').fillna(0)\n",
    "\n",
    "# Prepare movie features - keep original structure but fix alignment\n",
    "movies[\"genres\"] = movies[\"genres\"].fillna(\"\")\n",
    "\n",
    "# Create features for each movie\n",
    "movie_features = []\n",
    "for _, row in movies.iterrows():\n",
    "    movie_id = row['movieId']\n",
    "    genre_text = row['genres']\n",
    "    \n",
    "    # Get tags for this movie if available\n",
    "    tag_text = \"\"\n",
    "    if movie_id in movie_tags.index:\n",
    "        tags = movie_tags.loc[movie_id]\n",
    "        relevant_tags = tags[tags > 0.1]\n",
    "        if not relevant_tags.empty:\n",
    "            tag_text = \" \".join(relevant_tags.index)\n",
    "    \n",
    "    # Combine features\n",
    "    movie_features.append(f\"{genre_text} {tag_text}\".strip())\n",
    "\n",
    "# Compute TF-IDF \n",
    "vectorizer = TfidfVectorizer()\n",
    "movie_tfidf = vectorizer.fit_transform(movie_features)\n",
    "\n",
    "def recommend_movies_content(movie_title, top_n=10):\n",
    "    # Normalize input (strip spaces and lowercase)\n",
    "    movie_title = movie_title.strip().lower()\n",
    "    \n",
    "    # Find exact match without regex issues\n",
    "    matching_movies = movies[movies['title'].str.lower().str.contains(movie_title, regex=False)]\n",
    "    \n",
    "    if matching_movies.empty:\n",
    "        return f\"Movie '{movie_title}' not found in dataset.\"\n",
    "    \n",
    "    # Get first matching movie's index\n",
    "    movie_row = matching_movies.iloc[0]\n",
    "    movie_id = movie_row['movieId']\n",
    "    \n",
    "    # Convert movieId to the correct index in our TF-IDF matrix\n",
    "    movie_idx = movie_id_to_idx[movie_id]\n",
    "    \n",
    "    # Compute similarity ONLY for the selected movie (use reshape to ensure 2D)\n",
    "    movie_vector = movie_tfidf[movie_idx:movie_idx+1]\n",
    "    movie_sim = cosine_similarity(movie_vector, movie_tfidf).flatten()\n",
    "    \n",
    "    # Get top N most similar movies (excluding itself)\n",
    "    sim_scores = np.argsort(movie_sim)[::-1][1:top_n+1]\n",
    "    \n",
    "    recommended_movies = movies.iloc[sim_scores]['title'].tolist()\n",
    "    return recommended_movies\n"
   ]
  },
  {
   "cell_type": "code",
   "execution_count": 15,
   "metadata": {},
   "outputs": [
    {
     "name": "stdout",
     "output_type": "stream",
     "text": [
      "['Cars 2 (2011)', 'Monsters University (2013)', 'Despicable Me 2 (2013)', 'Shrek Forever After (a.k.a. Shrek: The Final Chapter) (2010)', 'Finding Dory (2016)', 'Ice Age: Dawn of the Dinosaurs (2009)', 'Shrek the Third (2007)', 'Planes (2013)', 'Cars (2006)', 'Shrek 2 (2004)']\n"
     ]
    }
   ],
   "source": [
    "# Example usage\n",
    "print(recommend_movies_content(\"Cars 3 (2017)\"))"
   ]
  }
 ],
 "metadata": {
  "kernelspec": {
   "display_name": "Python 3",
   "language": "python",
   "name": "python3"
  },
  "language_info": {
   "codemirror_mode": {
    "name": "ipython",
    "version": 3
   },
   "file_extension": ".py",
   "mimetype": "text/x-python",
   "name": "python",
   "nbconvert_exporter": "python",
   "pygments_lexer": "ipython3",
   "version": "3.12.2"
  }
 },
 "nbformat": 4,
 "nbformat_minor": 2
}
